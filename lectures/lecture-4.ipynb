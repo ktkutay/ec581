{
 "cells": [
  {
   "cell_type": "markdown",
   "metadata": {},
   "source": [
    "## Lecture 14.10.2016"
   ]
  },
  {
   "cell_type": "code",
   "execution_count": 13,
   "metadata": {
    "collapsed": false
   },
   "outputs": [],
   "source": [
    "library(TTR)\n",
    "require(quantstrat)"
   ]
  },
  {
   "cell_type": "code",
   "execution_count": 12,
   "metadata": {
    "collapsed": false
   },
   "outputs": [
    {
     "data": {
      "text/html": [
       "<pre class=language-r><code>function (x, n = 10, ...) \n",
       "{\n",
       "<span style=white-space:pre-wrap>    ma &lt;- runMean(x, n)</span>\n",
       "<span style=white-space:pre-wrap>    if (!is.null(dim(ma))) {</span>\n",
       "<span style=white-space:pre-wrap>        colnames(ma) &lt;- \"SMA\"</span>\n",
       "<span style=white-space:pre-wrap>    }</span>\n",
       "<span style=white-space:pre-wrap>    return(ma)</span>\n",
       "}</code></pre>"
      ],
      "text/latex": [
       "\\begin{minted}{r}\n",
       "function (x, n = 10, ...) \n",
       "\\{\n",
       "    ma <- runMean(x, n)\n",
       "    if (!is.null(dim(ma))) \\{\n",
       "        colnames(ma) <- \"SMA\"\n",
       "    \\}\n",
       "    return(ma)\n",
       "\\}\n",
       "\\end{minted}"
      ],
      "text/markdown": [
       "```r\n",
       "function (x, n = 10, ...) \n",
       "{\n",
       "    ma <- runMean(x, n)\n",
       "    if (!is.null(dim(ma))) {\n",
       "        colnames(ma) <- \"SMA\"\n",
       "    }\n",
       "    return(ma)\n",
       "}\n",
       "```"
      ],
      "text/plain": [
       "function (x, n = 10, ...) \n",
       "{\n",
       "    ma <- runMean(x, n)\n",
       "    if (!is.null(dim(ma))) {\n",
       "        colnames(ma) <- \"SMA\"\n",
       "    }\n",
       "    return(ma)\n",
       "}\n",
       "<environment: namespace:TTR>"
      ]
     },
     "metadata": {},
     "output_type": "display_data"
    }
   ],
   "source": [
    "SMA"
   ]
  },
  {
   "cell_type": "code",
   "execution_count": null,
   "metadata": {
    "collapsed": false
   },
   "outputs": [],
   "source": []
  }
 ],
 "metadata": {
  "kernelspec": {
   "display_name": "R",
   "language": "R",
   "name": "ir"
  },
  "language_info": {
   "codemirror_mode": "r",
   "file_extension": ".r",
   "mimetype": "text/x-r-source",
   "name": "R",
   "pygments_lexer": "r",
   "version": "3.3.1"
  }
 },
 "nbformat": 4,
 "nbformat_minor": 1
}
